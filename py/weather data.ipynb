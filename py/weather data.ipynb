{
 "cells": [
  {
   "cell_type": "code",
   "execution_count": 201,
   "metadata": {
    "collapsed": false
   },
   "outputs": [],
   "source": [
    "from IPython.display import display\n",
    "import pandas as pd\n",
    "import numpy as np\n",
    "import json\n",
    "import urllib\n",
    "import requests\n",
    "from pymongo import MongoClient"
   ]
  },
  {
   "cell_type": "code",
   "execution_count": 43,
   "metadata": {
    "collapsed": false
   },
   "outputs": [],
   "source": [
    "stop_list = pd.read_csv(\"https://raw.githubusercontent.com/ankush2611/marta-gtfs-ML/master/google_transit/stops.txt\")"
   ]
  },
  {
   "cell_type": "code",
   "execution_count": 133,
   "metadata": {
    "collapsed": false
   },
   "outputs": [
    {
     "name": "stdout",
     "output_type": "stream",
     "text": [
      "('33.75', '-84.42')\n"
     ]
    }
   ],
   "source": [
    "# Function to find coordinates from stop_id\n",
    "def id_coor(n, df):\n",
    "    target = df[df[\"stop_id\"] == n]\n",
    "    lat = round(float(target[\"stop_lat\"]),2)\n",
    "    lon = round(float(target[\"stop_lon\"]),2)\n",
    "    return lat, lon"
   ]
  },
  {
   "cell_type": "code",
   "execution_count": 196,
   "metadata": {
    "collapsed": false
   },
   "outputs": [],
   "source": [
    "# Function to request real-time weather report by coordinates\n",
    "def coor_weather(lat, lon):\n",
    "    lati = str(lat)\n",
    "    loni = str(lon)\n",
    "    url = \"http://api.openweathermap.org/data/2.5/weather?\"+\"lat=\"+lat+\"&lon=\"+lon+\"&appid=d491dc197b33dba3e9b6fd60d3ac8712\"\n",
    "    response = requests.get(url)\n",
    "    response = str(response.text)\n",
    "    response.replace(\"\\\\\",\"\")\n",
    "    with open('JSONData.json', 'a') as f:\n",
    "          json.dump(response, f,separators=(',',':'))"
   ]
  },
  {
   "cell_type": "code",
   "execution_count": 23,
   "metadata": {
    "collapsed": true
   },
   "outputs": [],
   "source": [
    "\n",
    "def name_id(name, df):\n",
    "    target_name = df.loc[df[\"stop_name\"] == name]\n",
    "    i = target_name[\"stop_id\"]\n",
    "    return i"
   ]
  },
  {
   "cell_type": "code",
   "execution_count": 140,
   "metadata": {
    "collapsed": true
   },
   "outputs": [],
   "source": [
    "# Function to request weather report by stop_id\n",
    "def id_weather(n, df):\n",
    "    lat, lon = find_coor(n, df)\n",
    "    report = coor_weather(lat, lon)\n",
    "    return report"
   ]
  },
  {
   "cell_type": "code",
   "execution_count": null,
   "metadata": {
    "collapsed": true
   },
   "outputs": [],
   "source": []
  }
 ],
 "metadata": {
  "kernelspec": {
   "display_name": "Python [Root]",
   "language": "python",
   "name": "Python [Root]"
  },
  "language_info": {
   "codemirror_mode": {
    "name": "ipython",
    "version": 2
   },
   "file_extension": ".py",
   "mimetype": "text/x-python",
   "name": "python",
   "nbconvert_exporter": "python",
   "pygments_lexer": "ipython2",
   "version": "2.7.12"
  }
 },
 "nbformat": 4,
 "nbformat_minor": 0
}
